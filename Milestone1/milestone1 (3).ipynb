{
  "cells": [
    {
      "cell_type": "markdown",
      "metadata": {
        "id": "view-in-github"
      },
      "source": [
        "<a href=\"https://colab.research.google.com/github/Jeyharshini10/Infosys_Springboard/blob/main/milestone1.ipynb\" target=\"_parent\"><img src=\"https://colab.research.google.com/assets/colab-badge.svg\" alt=\"Open In Colab\"/></a>"
      ]
    },
    {
      "cell_type": "code",
      "execution_count": 1,
      "metadata": {
        "colab": {
          "base_uri": "https://localhost:8080/"
        },
        "id": "xJhmoNRXzUsw",
        "outputId": "488c5499-bb69-4ff9-ec8d-f9bf7ac7cdb4"
      },
      "outputs": [
        {
          "output_type": "stream",
          "name": "stdout",
          "text": [
            "Tue Sep 30 03:05:11 2025       \n",
            "+-----------------------------------------------------------------------------------------+\n",
            "| NVIDIA-SMI 550.54.15              Driver Version: 550.54.15      CUDA Version: 12.4     |\n",
            "|-----------------------------------------+------------------------+----------------------+\n",
            "| GPU  Name                 Persistence-M | Bus-Id          Disp.A | Volatile Uncorr. ECC |\n",
            "| Fan  Temp   Perf          Pwr:Usage/Cap |           Memory-Usage | GPU-Util  Compute M. |\n",
            "|                                         |                        |               MIG M. |\n",
            "|=========================================+========================+======================|\n",
            "|   0  Tesla T4                       Off |   00000000:00:04.0 Off |                    0 |\n",
            "| N/A   64C    P8             11W /   70W |       0MiB /  15360MiB |      0%      Default |\n",
            "|                                         |                        |                  N/A |\n",
            "+-----------------------------------------+------------------------+----------------------+\n",
            "                                                                                         \n",
            "+-----------------------------------------------------------------------------------------+\n",
            "| Processes:                                                                              |\n",
            "|  GPU   GI   CI        PID   Type   Process name                              GPU Memory |\n",
            "|        ID   ID                                                               Usage      |\n",
            "|=========================================================================================|\n",
            "|  No running processes found                                                             |\n",
            "+-----------------------------------------------------------------------------------------+\n"
          ]
        }
      ],
      "source": [
        "!nvidia-smi\n"
      ]
    },
    {
      "cell_type": "code",
      "execution_count": 2,
      "metadata": {
        "colab": {
          "base_uri": "https://localhost:8080/"
        },
        "id": "00dNdwsG1XQW",
        "outputId": "7a0d6ef0-34b2-4846-b9e0-3e9c89138858"
      },
      "outputs": [
        {
          "output_type": "stream",
          "name": "stdout",
          "text": [
            "Requirement already satisfied: transformers in /usr/local/lib/python3.12/dist-packages (4.56.1)\n",
            "Requirement already satisfied: datasets in /usr/local/lib/python3.12/dist-packages (4.0.0)\n",
            "Requirement already satisfied: sentencepiece in /usr/local/lib/python3.12/dist-packages (0.2.1)\n",
            "Collecting rouge-score\n",
            "  Downloading rouge_score-0.1.2.tar.gz (17 kB)\n",
            "  Preparing metadata (setup.py) ... \u001b[?25l\u001b[?25hdone\n",
            "Requirement already satisfied: filelock in /usr/local/lib/python3.12/dist-packages (from transformers) (3.19.1)\n",
            "Requirement already satisfied: huggingface-hub<1.0,>=0.34.0 in /usr/local/lib/python3.12/dist-packages (from transformers) (0.35.0)\n",
            "Requirement already satisfied: numpy>=1.17 in /usr/local/lib/python3.12/dist-packages (from transformers) (2.0.2)\n",
            "Requirement already satisfied: packaging>=20.0 in /usr/local/lib/python3.12/dist-packages (from transformers) (25.0)\n",
            "Requirement already satisfied: pyyaml>=5.1 in /usr/local/lib/python3.12/dist-packages (from transformers) (6.0.2)\n",
            "Requirement already satisfied: regex!=2019.12.17 in /usr/local/lib/python3.12/dist-packages (from transformers) (2024.11.6)\n",
            "Requirement already satisfied: requests in /usr/local/lib/python3.12/dist-packages (from transformers) (2.32.4)\n",
            "Requirement already satisfied: tokenizers<=0.23.0,>=0.22.0 in /usr/local/lib/python3.12/dist-packages (from transformers) (0.22.0)\n",
            "Requirement already satisfied: safetensors>=0.4.3 in /usr/local/lib/python3.12/dist-packages (from transformers) (0.6.2)\n",
            "Requirement already satisfied: tqdm>=4.27 in /usr/local/lib/python3.12/dist-packages (from transformers) (4.67.1)\n",
            "Requirement already satisfied: pyarrow>=15.0.0 in /usr/local/lib/python3.12/dist-packages (from datasets) (18.1.0)\n",
            "Requirement already satisfied: dill<0.3.9,>=0.3.0 in /usr/local/lib/python3.12/dist-packages (from datasets) (0.3.8)\n",
            "Requirement already satisfied: pandas in /usr/local/lib/python3.12/dist-packages (from datasets) (2.2.2)\n",
            "Requirement already satisfied: xxhash in /usr/local/lib/python3.12/dist-packages (from datasets) (3.5.0)\n",
            "Requirement already satisfied: multiprocess<0.70.17 in /usr/local/lib/python3.12/dist-packages (from datasets) (0.70.16)\n",
            "Requirement already satisfied: fsspec<=2025.3.0,>=2023.1.0 in /usr/local/lib/python3.12/dist-packages (from fsspec[http]<=2025.3.0,>=2023.1.0->datasets) (2025.3.0)\n",
            "Requirement already satisfied: absl-py in /usr/local/lib/python3.12/dist-packages (from rouge-score) (1.4.0)\n",
            "Requirement already satisfied: nltk in /usr/local/lib/python3.12/dist-packages (from rouge-score) (3.9.1)\n",
            "Requirement already satisfied: six>=1.14.0 in /usr/local/lib/python3.12/dist-packages (from rouge-score) (1.17.0)\n",
            "Requirement already satisfied: aiohttp!=4.0.0a0,!=4.0.0a1 in /usr/local/lib/python3.12/dist-packages (from fsspec[http]<=2025.3.0,>=2023.1.0->datasets) (3.12.15)\n",
            "Requirement already satisfied: typing-extensions>=3.7.4.3 in /usr/local/lib/python3.12/dist-packages (from huggingface-hub<1.0,>=0.34.0->transformers) (4.15.0)\n",
            "Requirement already satisfied: hf-xet<2.0.0,>=1.1.3 in /usr/local/lib/python3.12/dist-packages (from huggingface-hub<1.0,>=0.34.0->transformers) (1.1.10)\n",
            "Requirement already satisfied: charset_normalizer<4,>=2 in /usr/local/lib/python3.12/dist-packages (from requests->transformers) (3.4.3)\n",
            "Requirement already satisfied: idna<4,>=2.5 in /usr/local/lib/python3.12/dist-packages (from requests->transformers) (3.10)\n",
            "Requirement already satisfied: urllib3<3,>=1.21.1 in /usr/local/lib/python3.12/dist-packages (from requests->transformers) (2.5.0)\n",
            "Requirement already satisfied: certifi>=2017.4.17 in /usr/local/lib/python3.12/dist-packages (from requests->transformers) (2025.8.3)\n",
            "Requirement already satisfied: click in /usr/local/lib/python3.12/dist-packages (from nltk->rouge-score) (8.2.1)\n",
            "Requirement already satisfied: joblib in /usr/local/lib/python3.12/dist-packages (from nltk->rouge-score) (1.5.2)\n",
            "Requirement already satisfied: python-dateutil>=2.8.2 in /usr/local/lib/python3.12/dist-packages (from pandas->datasets) (2.9.0.post0)\n",
            "Requirement already satisfied: pytz>=2020.1 in /usr/local/lib/python3.12/dist-packages (from pandas->datasets) (2025.2)\n",
            "Requirement already satisfied: tzdata>=2022.7 in /usr/local/lib/python3.12/dist-packages (from pandas->datasets) (2025.2)\n",
            "Requirement already satisfied: aiohappyeyeballs>=2.5.0 in /usr/local/lib/python3.12/dist-packages (from aiohttp!=4.0.0a0,!=4.0.0a1->fsspec[http]<=2025.3.0,>=2023.1.0->datasets) (2.6.1)\n",
            "Requirement already satisfied: aiosignal>=1.4.0 in /usr/local/lib/python3.12/dist-packages (from aiohttp!=4.0.0a0,!=4.0.0a1->fsspec[http]<=2025.3.0,>=2023.1.0->datasets) (1.4.0)\n",
            "Requirement already satisfied: attrs>=17.3.0 in /usr/local/lib/python3.12/dist-packages (from aiohttp!=4.0.0a0,!=4.0.0a1->fsspec[http]<=2025.3.0,>=2023.1.0->datasets) (25.3.0)\n",
            "Requirement already satisfied: frozenlist>=1.1.1 in /usr/local/lib/python3.12/dist-packages (from aiohttp!=4.0.0a0,!=4.0.0a1->fsspec[http]<=2025.3.0,>=2023.1.0->datasets) (1.7.0)\n",
            "Requirement already satisfied: multidict<7.0,>=4.5 in /usr/local/lib/python3.12/dist-packages (from aiohttp!=4.0.0a0,!=4.0.0a1->fsspec[http]<=2025.3.0,>=2023.1.0->datasets) (6.6.4)\n",
            "Requirement already satisfied: propcache>=0.2.0 in /usr/local/lib/python3.12/dist-packages (from aiohttp!=4.0.0a0,!=4.0.0a1->fsspec[http]<=2025.3.0,>=2023.1.0->datasets) (0.3.2)\n",
            "Requirement already satisfied: yarl<2.0,>=1.17.0 in /usr/local/lib/python3.12/dist-packages (from aiohttp!=4.0.0a0,!=4.0.0a1->fsspec[http]<=2025.3.0,>=2023.1.0->datasets) (1.20.1)\n",
            "Building wheels for collected packages: rouge-score\n",
            "  Building wheel for rouge-score (setup.py) ... \u001b[?25l\u001b[?25hdone\n",
            "  Created wheel for rouge-score: filename=rouge_score-0.1.2-py3-none-any.whl size=24934 sha256=84a1531447143a2b39434714e16e2383d946092f7ef59934d1a496f95b664de0\n",
            "  Stored in directory: /root/.cache/pip/wheels/85/9d/af/01feefbe7d55ef5468796f0c68225b6788e85d9d0a281e7a70\n",
            "Successfully built rouge-score\n",
            "Installing collected packages: rouge-score\n",
            "Successfully installed rouge-score-0.1.2\n",
            "Requirement already satisfied: nltk in /usr/local/lib/python3.12/dist-packages (3.9.1)\n",
            "Requirement already satisfied: click in /usr/local/lib/python3.12/dist-packages (from nltk) (8.2.1)\n",
            "Requirement already satisfied: joblib in /usr/local/lib/python3.12/dist-packages (from nltk) (1.5.2)\n",
            "Requirement already satisfied: regex>=2021.8.3 in /usr/local/lib/python3.12/dist-packages (from nltk) (2024.11.6)\n",
            "Requirement already satisfied: tqdm in /usr/local/lib/python3.12/dist-packages (from nltk) (4.67.1)\n"
          ]
        }
      ],
      "source": [
        "!pip install transformers datasets sentencepiece rouge-score\n",
        "!pip install nltk\n"
      ]
    },
    {
      "cell_type": "code",
      "execution_count": 3,
      "metadata": {
        "colab": {
          "base_uri": "https://localhost:8080/"
        },
        "id": "tEilbCCJ1er4",
        "outputId": "932ba237-859e-4e9b-942f-f0b12af99fb5"
      },
      "outputs": [
        {
          "output_type": "stream",
          "name": "stderr",
          "text": [
            "[nltk_data] Downloading package punkt to /root/nltk_data...\n",
            "[nltk_data]   Unzipping tokenizers/punkt.zip.\n"
          ]
        }
      ],
      "source": [
        "from transformers import T5ForConditionalGeneration, T5Tokenizer\n",
        "from transformers import BartForConditionalGeneration, BartTokenizer\n",
        "from transformers import PegasusForConditionalGeneration, PegasusTokenizer\n",
        "import torch\n",
        "import matplotlib.pyplot as plt\n",
        "import nltk\n",
        "nltk.download('punkt')\n",
        "from nltk.tokenize import sent_tokenize\n"
      ]
    },
    {
      "cell_type": "code",
      "execution_count": 4,
      "metadata": {
        "colab": {
          "base_uri": "https://localhost:8080/"
        },
        "id": "1hvDr9-79FSu",
        "outputId": "2bc08a53-3531-4084-eedc-bea8779f6a28"
      },
      "outputs": [
        {
          "output_type": "stream",
          "name": "stdout",
          "text": [
            " Libraries imported.\n"
          ]
        }
      ],
      "source": [
        "import matplotlib.pyplot as plt\n",
        "from collections import Counter\n",
        "import textwrap\n",
        "import re\n",
        "import requests\n",
        "import ssl\n",
        "from transformers import T5ForConditionalGeneration, T5Tokenizer\n",
        "from transformers import BartForConditionalGeneration, BartTokenizer\n",
        "from transformers import PegasusForConditionalGeneration, PegasusTokenizer\n",
        "from sentence_transformers import SentenceTransformer\n",
        "from sklearn.metrics.pairwise import cosine_similarity\n",
        "\n",
        "\n",
        "try:\n",
        "    _create_unverified_https_context = ssl._create_unverified_context\n",
        "except AttributeError:\n",
        "    pass\n",
        "else:\n",
        "    ssl._create_default_https_context = _create_unverified_https_context\n",
        "\n",
        "print(\" Libraries imported.\")"
      ]
    },
    {
      "cell_type": "markdown",
      "metadata": {
        "id": "VortNNNc9Os0"
      },
      "source": [
        "We will use two online text sources for this experiment:\n",
        "\n",
        "1. Alice in Wonderland  \n",
        "   URL: `https://www.gutenberg.org/files/11/11-0.txt`\n",
        "\n",
        "2. Dracula  \n",
        "   URL: `https://www.gutenberg.org/files/345/345-0.txt`\n",
        "\n",
        "We limit each text to the first 3000 characters for faster processing.\n"
      ]
    },
    {
      "cell_type": "code",
      "execution_count": 5,
      "metadata": {
        "colab": {
          "base_uri": "https://localhost:8080/"
        },
        "id": "xzpE7ntq9J5r",
        "outputId": "f9a6bf3e-0e39-4e66-eba6-d7bdb785b94d"
      },
      "outputs": [
        {
          "output_type": "stream",
          "name": "stdout",
          "text": [
            "Documents fetched successfully!\n"
          ]
        }
      ],
      "source": [
        "import requests\n",
        "\n",
        "url1 = \"https://www.gutenberg.org/files/11/11-0.txt\"   # Alice in Wonderland\n",
        "url2 = \"https://www.gutenberg.org/files/345/345-0.txt\"  # Dracula\n",
        "\n",
        "text1 = requests.get(url1).text[:3000]  # limit to first 3000 characters\n",
        "text2 = requests.get(url2).text[:3000]\n",
        "\n",
        "documents = [text1, text2]\n",
        "print(\"Documents fetched successfully!\")\n"
      ]
    },
    {
      "cell_type": "markdown",
      "metadata": {
        "id": "RfeDGIyE9VLZ"
      },
      "source": [
        "Step 2: T5 Summarization & Paraphrasing\n",
        "\n",
        "The T5 model converts all NLP tasks into a text-to-text format  \n",
        "We will first summarize the document, then perform paraphrasing on the summary using a T5 paraphrase model.\n"
      ]
    },
    {
      "cell_type": "code",
      "execution_count": 6,
      "metadata": {
        "colab": {
          "base_uri": "https://localhost:8080/",
          "height": 756,
          "referenced_widgets": [
            "d521b6c0391d4a0caaafd3301818dfd7",
            "70501ec327d8469ea349eb5d9df5f1b1",
            "e69fb30f32b14715b11e3e85b0099a6f",
            "8bdacf2aa8a24a6e941a5fcac9db38d4",
            "03eec59e51504ff5babe67f46aa77d25",
            "46e915a30bc743bf954b02084a8b8f58",
            "48e826b7da374d0e92e91d32a65bc348",
            "27fb23abfada45038f16e152d82e3e87",
            "04f4cc2522a5486fb22fc9e5b5cf9eda",
            "df3807abc70d4470b5a0c87f1bce13c9",
            "cb96320f4696485e9e8871d7cdd788db",
            "b381bbbec0a04aa0b841ba4beaea7fed",
            "c7241908406e477988ca3051495dae23",
            "58d7850c39014d4bb463bb2763c20169",
            "9475b6d3962541f7803e71c974264de4",
            "8de88caf0be0411681d460bbe7d36b64",
            "f1244a78832048dc9c0553082a0d4143",
            "df446474ae454d6cb10539370480d35d",
            "4883972ab92040468028a38ac5a00123",
            "c247b26838b44a79abe1ecf8538a0d85",
            "821b80b516a242e89136a17616e3b1c7",
            "830fdf2951444371acd0643a6c9affc1",
            "26b7734e61f8466e9f2544b8d6a88c06",
            "e7285b8e8d1a4e6b91ccb91c56e19f4a",
            "6ded116e57c848f181a685fdced70df2",
            "2a379bb85286476aad73f73c66e2d657",
            "88ffa848eb904fe8aabb156f4fa318c8",
            "1140088e9f8d4a4ca5e6892c9c6c865e",
            "333eec8d0aaf4e5faffe409dc7fe3ac2",
            "35a6c26d72a74d76beabe657a917edb9",
            "6a83e44675734816930e55d007286263",
            "16d51361a62b4d8f8de10fca318fa0d6",
            "4904a221421b44db9c99d234b96a770e",
            "51ae46572b274ae9965429aa9a9e9836",
            "9086e1bfb1eb45338fd71e7198f14969",
            "adea0ce4d07e4dd7a86cddec257bce91",
            "938cecc781db49d195d10a6fd42e9b06",
            "3a390438dbe542ae865cd4141712bcc5",
            "df94367167834bc6a6a22f7f64d5e193",
            "33bca96ce4db4cd39b2f160426019bbd",
            "ecebe59eae164ed88d36cd342bd33a94",
            "9869a357d22e4ef9b534f6ed61851599",
            "2cae932c4efd4d47b283a7202c88bf5e",
            "399957e45aca41158adfa043e85585a2",
            "30cf4cecb2d84091b3ff6cb83db2937a",
            "b9a7604d61464d23832c9143b78a1316",
            "35dd84a5aa18480fa6131731448bcb0f",
            "59e79b9e189b46e8b3751a834893da57",
            "47b0bdaa6c594400bef408a463c60b48",
            "9954475c2e6b446d8248b62c7d30acfa",
            "39f83254d11a4514af3743f303e2bce4",
            "2299f1c2c113489d9fe88fd74c9ca3d5",
            "e0cc8a78e0d04b3eaccbdbe95eade366",
            "b96135913fc94dcf9f6047a0cd62e6e7",
            "d0b55638720944fe921eb8eb59f0c142",
            "f7b3bf9587e24c329808132c9573c144",
            "2e8f6812b37741d1be0f934ae9cefa01",
            "5614a0df2f0c4b9bb36edcf7e45fc026",
            "482d746176214696a2f6f1331a174ef4",
            "3c4969296f3c4328a0d875ed9cbb6878",
            "1376782c104944d9bfb3318a01e9dada",
            "50d7144f55a242a88a7a4f41005c98cf",
            "cba3567657964c1b8a858472398f9f43",
            "32d5003f1ac340a4bcdadc7724dd9c12",
            "286d4551ec7840b6a1d2d761592358b7",
            "0eebf147a8974ec3bc9045c9fd6d4514",
            "63e5130b3d274fa7aa0e41cd02ca6cb8",
            "3c9d525d7e1a483181dc419ecec9e12a",
            "780d71eb04734561b5940ab912a001d9",
            "1f362809601a4ede8491c83d4065e6f8",
            "d9cea0708abf4778b2b4528ed2b0e31b",
            "62de51acda5246678a8ea5fb9c07e030",
            "576cccd878ed43cdaae055154b53ec9d",
            "cedacc1ec12343ca80cdb456522d6191",
            "9a09513211514c6a96b0d8d62bdcb198",
            "7cb96bd8ecd1443daa057c80df5fe10b",
            "d17534ec6cac4c79b87476fd56e1c3a8",
            "063038cba6f9487ca3a0705ba7c85421",
            "91daad0c12704a74bbc3392cf65975e6",
            "ed9cc3e0d9904d78b6e6dfdb2578a7be",
            "e4c2e9295b434fd989924750311da247",
            "1a321519624c4b70babd3315c316618e",
            "cb7b763f5d6f436d89e0b4acd268b215",
            "668673153991470cb10236d09af24578",
            "efc55da3998f4c789f7c9f09e22e3503",
            "589b974eb62143828a01fa06d5e19b5f",
            "c255afa344ec4ad18021a4e4a5652e91",
            "20c262efecf247d3b9ab2c22debea666",
            "d284726209f74f969a119a8889d815a8",
            "9f6e77049e0b4750ba08613bcdaadcc0",
            "1337e231d9a245b687b42e914b823822",
            "7c0e1fe342344cf8940a6f754fefc330",
            "efa5fd0f187f479db9c28b8a8caf5bd0",
            "a7abe246ce23440a95a9d5c62994f00b",
            "1ec5bb6470304dbd8926e28494c1e803",
            "abe9dcd154c2477db5d9dcc7716b41f4",
            "074504b457cb409da54eeeefad7f33ad",
            "e53e0119bb4148c79d7a0cad12f397cc",
            "d47d5e2be21845f782748fcebdde404e",
            "074d094d8ef74730bc1209a56608f254",
            "4c0abe0e5f9d4d5b8e82054041a1d511",
            "d530fc4fc82444f3a56b8acec6dd82fb",
            "4c012205cc0d4c789507bcfec15872fc",
            "105fe029688b4fe88d51dc9780dba916",
            "4b3c88f83a63404d9cc93d3e2d8ec991",
            "e578069a74014e779670dcbbcebb4ffd",
            "ff090bf160644cb7a03d1cc8d5dedaf1",
            "bd38d3c722e140e0b30b5042102d36aa",
            "85eba5f8975746238927dbd6a166393e",
            "3f818764676046b1997293621b302d79"
          ]
        },
        "id": "TuHwP5tJ9iEB",
        "outputId": "a870106a-db9a-46b3-9989-7a88db789ebb"
      },
      "outputs": [
        {
          "output_type": "stream",
          "name": "stdout",
          "text": [
            "\n",
            "=== Document 1 \u2013 T5 ===\n"
          ]
        },
        {
          "output_type": "stream",
          "name": "stderr",
          "text": [
            "/usr/local/lib/python3.12/dist-packages/huggingface_hub/utils/_auth.py:94: UserWarning: \n",
            "The secret `HF_TOKEN` does not exist in your Colab secrets.\n",
            "To authenticate with the Hugging Face Hub, create a token in your settings tab (https://huggingface.co/settings/tokens), set it as secret in your Google Colab and restart your session.\n",
            "You will be able to reuse this secret in all of your notebooks.\n",
            "Please note that authentication is recommended but still optional to access public models or datasets.\n",
            "  warnings.warn(\n"
          ]
        },
        {
          "output_type": "display_data",
          "data": {
            "text/plain": [
              "spiece.model:   0%|          | 0.00/792k [00:00<?, ?B/s]"
            ],
            "application/vnd.jupyter.widget-view+json": {
              "version_major": 2,
              "version_minor": 0,
              "model_id": "d521b6c0391d4a0caaafd3301818dfd7"
            }
          },
          "metadata": {}
        },
        {
          "output_type": "display_data",
          "data": {
            "text/plain": [
              "tokenizer.json:   0%|          | 0.00/1.39M [00:00<?, ?B/s]"
            ],
            "application/vnd.jupyter.widget-view+json": {
              "version_major": 2,
              "version_minor": 0,
              "model_id": "b381bbbec0a04aa0b841ba4beaea7fed"
            }
          },
          "metadata": {}
        },
        {
          "output_type": "display_data",
          "data": {
            "text/plain": [
              "config.json:   0%|          | 0.00/1.21k [00:00<?, ?B/s]"
            ],
            "application/vnd.jupyter.widget-view+json": {
              "version_major": 2,
              "version_minor": 0,
              "model_id": "26b7734e61f8466e9f2544b8d6a88c06"
            }
          },
          "metadata": {}
        },
        {
          "output_type": "stream",
          "name": "stderr",
          "text": [
            "You are using the default legacy behaviour of the <class 'transformers.models.t5.tokenization_t5.T5Tokenizer'>. This is expected, and simply means that the `legacy` (previous) behavior will be used so nothing changes for you. If you want to use the new behaviour, set `legacy=False`. This should only be set if you understand what it means, and thoroughly read the reason why this was added as explained in https://github.com/huggingface/transformers/pull/24565\n"
          ]
        },
        {
          "output_type": "display_data",
          "data": {
            "text/plain": [
              "model.safetensors:   0%|          | 0.00/892M [00:00<?, ?B/s]"
            ],
            "application/vnd.jupyter.widget-view+json": {
              "version_major": 2,
              "version_minor": 0,
              "model_id": "51ae46572b274ae9965429aa9a9e9836"
            }
          },
          "metadata": {}
        },
        {
          "output_type": "display_data",
          "data": {
            "text/plain": [
              "generation_config.json:   0%|          | 0.00/147 [00:00<?, ?B/s]"
            ],
            "application/vnd.jupyter.widget-view+json": {
              "version_major": 2,
              "version_minor": 0,
              "model_id": "30cf4cecb2d84091b3ff6cb83db2937a"
            }
          },
          "metadata": {}
        },
        {
          "output_type": "display_data",
          "data": {
            "text/plain": [
              "tokenizer_config.json:   0%|          | 0.00/25.0 [00:00<?, ?B/s]"
            ],
            "application/vnd.jupyter.widget-view+json": {
              "version_major": 2,
              "version_minor": 0,
              "model_id": "f7b3bf9587e24c329808132c9573c144"
            }
          },
          "metadata": {}
        },
        {
          "output_type": "display_data",
          "data": {
            "text/plain": [
              "spiece.model:   0%|          | 0.00/792k [00:00<?, ?B/s]"
            ],
            "application/vnd.jupyter.widget-view+json": {
              "version_major": 2,
              "version_minor": 0,
              "model_id": "63e5130b3d274fa7aa0e41cd02ca6cb8"
            }
          },
          "metadata": {}
        },
        {
          "output_type": "display_data",
          "data": {
            "text/plain": [
              "special_tokens_map.json: 0.00B [00:00, ?B/s]"
            ],
            "application/vnd.jupyter.widget-view+json": {
              "version_major": 2,
              "version_minor": 0,
              "model_id": "063038cba6f9487ca3a0705ba7c85421"
            }
          },
          "metadata": {}
        },
        {
          "output_type": "display_data",
          "data": {
            "text/plain": [
              "config.json: 0.00B [00:00, ?B/s]"
            ],
            "application/vnd.jupyter.widget-view+json": {
              "version_major": 2,
              "version_minor": 0,
              "model_id": "d284726209f74f969a119a8889d815a8"
            }
          },
          "metadata": {}
        },
        {
          "output_type": "display_data",
          "data": {
            "text/plain": [
              "model.safetensors:   0%|          | 0.00/892M [00:00<?, ?B/s]"
            ],
            "application/vnd.jupyter.widget-view+json": {
              "version_major": 2,
              "version_minor": 0,
              "model_id": "074d094d8ef74730bc1209a56608f254"
            }
          },
          "metadata": {}
        },
        {
          "output_type": "stream",
          "name": "stdout",
          "text": [
            "\n",
            "T5 Summary:\n",
            " a white rabbit with pink eyes pops down a rabbit-hole under the hedge . the rabbit-hole goes straight on like a tunnel for some way, and then drops down a very deep well . a jar of maps and pictures hung upon pegs were hung on a shelf .\n",
            "\n",
            "T5 Paraphrase:\n",
            " A white rabbit with pink eyes pops down a rabbit hole under the hedge , the rabbit hole goes straight on like a tunnel for some way and then drops down a very deep well , a jar of maps and pictures hung on pegs were hung on a shelf .\n",
            "\n",
            "=== Document 2 \u2013 T5 ===\n",
            "\n",
            "T5 Summary:\n",
            " a history almost at variance with the possibilities of later-day belief may stand forth as simple fact . all needless matters have been eliminated, so that a history almost at variance with the possibilities of later-day belief may stand forth as simple fact .\n",
            "\n",
            "T5 Paraphrase:\n",
            " a history almost at variance with the possibilities of later-day belief may stand forth as simple fact , all needless matters have been eliminated , so that a history almost at variance with the possibilities of later-day belief may stand forth as simple fact .\n"
          ]
        }
      ],
      "source": [
        "from transformers import T5Tokenizer, T5ForConditionalGeneration\n",
        "\n",
        "# T5 Summarization\n",
        "def summarize_t5(text, min_len=50, max_len=150):\n",
        "    tokenizer = T5Tokenizer.from_pretrained(\"t5-base\")\n",
        "    model = T5ForConditionalGeneration.from_pretrained(\"t5-base\")\n",
        "    input_text = \"summarize: \" + text.strip().replace(\"\\n\",\" \")\n",
        "    inputs = tokenizer.encode(input_text, return_tensors=\"pt\", max_length=1024, truncation=True)\n",
        "    summary_ids = model.generate(\n",
        "        inputs, max_length=max_len, min_length=min_len, num_beams=4, length_penalty=2.0, early_stopping=True\n",
        "    )\n",
        "    return tokenizer.decode(summary_ids[0], skip_special_tokens=True)\n",
        "\n",
        "# T5 Paraphrasing\n",
        "def paraphrase_t5(text):\n",
        "    model_name = \"Vamsi/T5_Paraphrase_Paws\"\n",
        "    tokenizer = T5Tokenizer.from_pretrained(model_name)\n",
        "    model = T5ForConditionalGeneration.from_pretrained(model_name)\n",
        "    input_text = \"paraphrase: \" + text\n",
        "    inputs = tokenizer.encode(input_text, return_tensors=\"pt\", max_length=1024, truncation=True)\n",
        "    paraphrase_ids = model.generate(inputs, max_length=256, num_beams=4, early_stopping=True)\n",
        "    return tokenizer.decode(paraphrase_ids[0], skip_special_tokens=True)\n",
        "\n",
        "# Run T5 on documents\n",
        "for idx, doc in enumerate(documents):\n",
        "    print(f\"\\n=== Document {idx+1} \u2013 T5 ===\")\n",
        "    t5_summary = summarize_t5(doc)\n",
        "    t5_paraphrase = paraphrase_t5(t5_summary)\n",
        "    print(\"\\nT5 Summary:\\n\", t5_summary)\n",
        "    print(\"\\nT5 Paraphrase:\\n\", t5_paraphrase)\n"
      ]
    },
    {
      "cell_type": "markdown",
      "metadata": {
        "id": "RBWW8gGy92pi"
      },
      "source": [
        " Load and Clean Text from a URL\n",
        "\n",
        "We will fetch a text file from a URL and clean it by:\n",
        "1. Removing unnecessary newlines.\n",
        "2. Removing extra spaces.\n",
        "3. Keeping only readable text.\n"
      ]
    },
    {
      "cell_type": "code",
      "execution_count": 7,
      "metadata": {
        "colab": {
          "base_uri": "https://localhost:8080/"
        },
        "id": "Q4EHvHoW97Jn",
        "outputId": "c1572c57-d61f-45ca-8685-842973b0aadc"
      },
      "outputs": [
        {
          "output_type": "stream",
          "name": "stdout",
          "text": [
            "*** START OF THE PROJECT GUTENBERG EBOOK 11 *** [Illustration] Alice\u2019s Adventures in Wonderland by Lewis Carroll THE MILLENNIUM FULCRUM EDITION 3.0 Contents CHAPTER I. Down the Rabbit-Hole CHAPTER II. The Pool of Tears CHAPTER III. A Caucus-Race and a Long Tale CHAPTER IV. The Rabbit Sends in a Little Bill CHAPTER V. Advice from a Caterpillar CHAPTER VI. Pig and Pepper CHAPTER VII. A Mad Tea-Party CHAPTER VIII. The Queen\u2019s Croquet-Ground CHAPTER IX. The Mock Turtle\u2019s Story CHAPTER X. The Lobster\n"
          ]
        }
      ],
      "source": [
        "import requests\n",
        "import re\n",
        "\n",
        "# URL of the text file\n",
        "url = \"https://www.gutenberg.org/files/11/11-0.txt\"  # Alice in Wonderland\n",
        "\n",
        "# Fetch the text\n",
        "response = requests.get(url)\n",
        "raw_text = response.text\n",
        "\n",
        "# Clean the text\n",
        "# Replace multiple spaces, tabs, and newlines with a single space\n",
        "clean_text = re.sub(r'\\s+', ' ', raw_text).strip()\n",
        "\n",
        "# Optional: limit to first 3000 characters for faster processing\n",
        "clean_text = clean_text[:3000]\n",
        "\n",
        "# Preview the first 500 characters\n",
        "print(clean_text[:500])\n"
      ]
    },
    {
      "cell_type": "markdown",
      "metadata": {
        "id": "lu9Y3zvd-AIg"
      },
      "source": [
        "Step 3: BART Summarization\n",
        "\n",
        "The BART model is bidirectional and autoregressive, useful for abstractive summarization tasks.  \n",
        "We will summarize the same documents using BART for comparison.\n"
      ]
    },
    {
      "cell_type": "code",
      "execution_count": 8,
      "metadata": {
        "colab": {
          "base_uri": "https://localhost:8080/",
          "height": 371,
          "referenced_widgets": [
            "e713aceffe5d4995a5e3cd43fbf1cadb",
            "25df7ed181ba4031884e54fa5d5c8913",
            "cb402ef757644ca5a84623f7b3e4b4f4",
            "7d5157e58d2241129794fafc28208d0b",
            "5ebb9275437c4606b6071b823ef642af",
            "88a44a06a9f5419ab0cc96628dd8684b",
            "31a2896be1da4a76ad16c4b452b92e48",
            "437a50bb446347c190e8400630459e1f",
            "6d169dd3827c49209137ade3beeb6ea1",
            "a8430c65d9a44e2eace44474aaf0c4bf",
            "cfd7464f8e5b4331bbd9ba67e02a21c6",
            "3647f7f4544542cf8739607ce3f33696",
            "0d718145ca58411f8f274f049ff31303",
            "1c982f3fa1434c54a768cf9c1fb4c8d0",
            "8eb19241d2c842d2a22594a3c6b59ecb",
            "d7df9dd6f81840fd8f56b61f9db4f8c2",
            "cf4d0f37baf747c7857528a009037298",
            "b249a516bb25417b972b922326c98d52",
            "9259a010b60d431fad073c42c74dfba9",
            "af073f62ab2d4c98a0ade0ee929f1a41",
            "3d6adc63569143ce8b4353352340b8d4",
            "63305dac132441b7a809949834470465",
            "248dc41fb9b849b49d043d82a2ec06e0",
            "630609a29fcd49a98589b306a6b993b5",
            "3b7e6c4cdb6b4265a3501734b21b2d5c",
            "0eebc32e42084f8c8a8e9bf2317ed549",
            "bdbde4aeb874442da0871f34899881be",
            "9e2989320bbb439898df3265d4ea340f",
            "4b9010b0cc3e4bfab749f977778e8126",
            "61902d204f5a425395ea9b29b1c57662",
            "d22a5ba19582415dbe484f1fdc23299a",
            "50e0ae89bf2c4e699637197d8dce2d34",
            "1d36d28bf32d49e4a27f89b270478383",
            "efc055145cb5496fb8afa20b2a159811",
            "c9225fda01454c7081ea96221e5f141e",
            "5d39c1372f9c4556b1885b1c6c47c494",
            "6faefabf3f7f489f8e1b6078ca57adbc",
            "d6320a454f3f47c7bdcd3e6282490669",
            "19c7d022f9e645d0871752fe65eedf3c",
            "689da9c77520460cb0a756c8451de2ca",
            "a7d84f209218418f95e83f7f6b79ef96",
            "22a7b007f1a448788fe4d073c5a7c881",
            "39b4eb89efd14ad1868654997387b6d6",
            "b596bb3d7c11433e9ef706c6e86f2a5b",
            "e41ba20c27444b189f0052f5882586b2",
            "8e632618e03b456897a4cfe955663853",
            "96181444598040aeb76210c82fb21344",
            "0dd6e29a0b934719b8fc3f17e808e0ab",
            "ab875639dac94518814f85ffac9c252d",
            "f1e03b7f9ef24cde888af2b81db348f8",
            "41cfa0583cca476eb0c33bd91be187e1",
            "4108622a2db64df19fa08882a09cdfe1",
            "a251e0e59d8446e781084e2cedbf2fac",
            "4a7abb6da6dc4f4b916a8d61b8260980",
            "3c6f88d53235477ba18b2830faac054f"
          ]
        },
        "id": "G4H-aBGU-LAc",
        "outputId": "a0705799-dfa1-4278-9620-e7a77da91797"
      },
      "outputs": [
        {
          "output_type": "stream",
          "name": "stdout",
          "text": [
            "\n",
            "=== Document 1 \u2013 BART ===\n"
          ]
        },
        {
          "output_type": "display_data",
          "data": {
            "text/plain": [
              "vocab.json: 0.00B [00:00, ?B/s]"
            ],
            "application/vnd.jupyter.widget-view+json": {
              "version_major": 2,
              "version_minor": 0,
              "model_id": "e713aceffe5d4995a5e3cd43fbf1cadb"
            }
          },
          "metadata": {}
        },
        {
          "output_type": "display_data",
          "data": {
            "text/plain": [
              "merges.txt: 0.00B [00:00, ?B/s]"
            ],
            "application/vnd.jupyter.widget-view+json": {
              "version_major": 2,
              "version_minor": 0,
              "model_id": "3647f7f4544542cf8739607ce3f33696"
            }
          },
          "metadata": {}
        },
        {
          "output_type": "display_data",
          "data": {
            "text/plain": [
              "tokenizer.json: 0.00B [00:00, ?B/s]"
            ],
            "application/vnd.jupyter.widget-view+json": {
              "version_major": 2,
              "version_minor": 0,
              "model_id": "248dc41fb9b849b49d043d82a2ec06e0"
            }
          },
          "metadata": {}
        },
        {
          "output_type": "display_data",
          "data": {
            "text/plain": [
              "config.json: 0.00B [00:00, ?B/s]"
            ],
            "application/vnd.jupyter.widget-view+json": {
              "version_major": 2,
              "version_minor": 0,
              "model_id": "efc055145cb5496fb8afa20b2a159811"
            }
          },
          "metadata": {}
        },
        {
          "output_type": "display_data",
          "data": {
            "text/plain": [
              "model.safetensors:   0%|          | 0.00/558M [00:00<?, ?B/s]"
            ],
            "application/vnd.jupyter.widget-view+json": {
              "version_major": 2,
              "version_minor": 0,
              "model_id": "e41ba20c27444b189f0052f5882586b2"
            }
          },
          "metadata": {}
        },
        {
          "output_type": "stream",
          "name": "stdout",
          "text": [
            "\n",
            "BART Summary:\n",
            " *** START OF THE PROJECT GUTENBERG EBOOK 11 *** UNCLASSIFIEDCLASSIFIEDCLASSIFIEDCHAPTER I.    Alice\u2019s Adventures in Wonderland UNCLASSIFIED UNCLASSIFIED[Illustration] UNCLASSIFIEDCLASSIFIEDCHAPTER II. \u00c2  The Rabbit Sends in a Little Bill of Tears UNCLASSIFIED CHAPTER III.  .  The Bunny Sends In a Big Bill of Shampooby Lewis Carroll UNCLASSIFIED UNCLASSIFIEDTHE MILLENNIUM FULCRUM EDITION 3.0 UNCLASSIFIED UNCLASSIFIEDCHAPTER I, and the Rabbit-HoleReloaded CHAPTER II. I   The Pool of Tears unden CHAPTER I. d   A Caucus-Race and a Long Tale of the White Rabbit\u2019S Story unden CHAMPION CHAPTER IV\n",
            "\n",
            "=== Document 2 \u2013 BART ===\n",
            "\n",
            "BART Summary:\n",
            " *** START OF THE PROJECT GUTENBERG EBOOK 345 *** \ufffd\udbc0\udc20\\\\\\\\\\\\\\\\\\\\\\\\\\\\\\\\\\\\\\\\\\\\\\\\\\\\\\\\\\\\\\\\\\\\\\\\\\\\\\\\\\\\\\\\\\\\\\\\\\\\\\\\\\\\\\\\\\\\\\\\\\\\\\\\\\\\\\\\\\\\\\\\\\\\\\\\\\\\\\\\\\\\\\\\\\\\\\\\\\\\\\\\\\\\\\\\\\\\\\\\\\\\\\\\\\\\\\\\\\\\\\\\\\\\\\\\\\\\\\\\\\\\\\\\\\\\\\\\\\\\\\\\\\\\\\\\\\\\\\\\\\\\\\\\\u00a0\u00a0\u00a0\u00a0\u00a0\u00a0\u00a0\u00a0\u00a0\u00a0\u00a0\u00a0\u00a0\u00a0\u00a0\u00a0\u00a0\u00a0\u00a0\u00a0\u00a0\u00a0\u00a0\u00a0\u00a0\u00a0\u00a0\u00a0\u00a0\u00a0\u00a0\u00a0\u00a0\u00a0\u00a0\u00a0\u00a0\u00a0\u00a0\u00a0\u00a0\u00a0\u00a0\u00a0\u00a0\u00a0\u00a0\u00a0\u00a0\u00a0\u00a0\u00a0\u00a0\u00a0\u00a0\u00a0\u00a0\u00a0\u00a0\u00a0\u00a0\u00a0\u00a0\u00a0\u00a0\u00a0\u00a0\u00a0\u00a0\u00a0\u00a0\u00a0\u00a0\u00a0\u00a0\u00a0\u00a0\u00a0\u00a0\u00a0\u00a0\u00a0    d  \u00c2   .   (  \ufffd   T   D   I   DRACULA\u2019S PRODUCTION-LOOKING SYSTEM-LIZLOOKED-LINKING SYSTEM SYSTEM-SIZLORE  \ue81c\\\\\\\\\\\\\\\\\\\\\\\\\\\\\\\\\\\\\\\\\\\\\\\\\\\\\\\\\\\\\\\\\u00a0\u00a0\u00a0\u00a0\u00a0\u00a0\u00a0\u00a0\u00a0\u00a0\u00a0\u00a0\u00a0\u00a0\u00a0\u00a0\u00a0\u00a0\u00a0\u00a0\u00a0\u00a0\u00a0\u00a0\u00a0\u00a0\u00a0\u00a0\u00a0\u00a0\u00a0\u00a0\u00a0\u00a0\u00a0\u00a0\u00a0\u00a0\u00a0\u00a0\u00a0\u00a0\u00a0\u00a0\u00a0\u00a0\u00a0\u00a0\u00a0\u00a0\u00a0\u00a0\u00a0\u00a0\u00a0\u00a0\u00a0\u00a0\u00a0\u00a0\u00a0\u00a0\u00a0\u00a0\u00a0\u00a0\u00a0\u00a0\u00a0\u00a0\u00a0\u00a0\u00a0\u00a0\u00a0\u00a0\u00a0\u00a0\u00a0\u00a0\u00a0\u00a0\u00a0\u00a0\u00a0\u00a0\u00a0\u00a0\u00a0\u00a0\u00a0\u00a0\u00a0\u00a0\u00a0\u00a0\u00a0\u00a0\u00a0\u00a0\u00a0\u00a0\u00a0\u00a0\u00a0\u00a0\u00a0\u00a0\u00a0\u00a0\u00a0\u00a0\u00a0\u00a0\u00a0\u00a0\u00a0\u00a0\u00a0\u00a0\u00a0\u00a0\u00a0\u00a0\u00a0\u00a0\u00a0\u00a0\u00a0\u00a0\u00a0\u00a0\u00a0\u00a0\u00a0\u00a0\u00a0\u00a0\u00a0\u00a0\u00a0\u00a0\u00a0\u00a0\u00a0\u00a0\u00a0\u00a0\u00a0\u00a0\u00a0\u00a0  \ufffd \n"
          ]
        }
      ],
      "source": [
        "from transformers import BartTokenizer, BartForConditionalGeneration\n",
        "\n",
        "def summarize_bart(text, min_len=50, max_len=150):\n",
        "    tokenizer = BartTokenizer.from_pretrained(\"facebook/bart-base\")\n",
        "    model = BartForConditionalGeneration.from_pretrained(\"facebook/bart-base\")\n",
        "    inputs = tokenizer(text, return_tensors=\"pt\", max_length=1024, truncation=True)\n",
        "    summary_ids = model.generate(\n",
        "        inputs['input_ids'], max_length=max_len, min_length=min_len, num_beams=4, length_penalty=2.0, early_stopping=True\n",
        "    )\n",
        "    return tokenizer.decode(summary_ids[0], skip_special_tokens=True)\n",
        "\n",
        "for idx, doc in enumerate(documents):\n",
        "    print(f\"\\n=== Document {idx+1} \u2013 BART ===\")\n",
        "    bart_summary = summarize_bart(doc)\n",
        "    print(\"\\nBART Summary:\\n\", bart_summary)\n"
      ]
    },
    {
      "cell_type": "markdown",
      "metadata": {
        "id": "ySVNV9WW-UgO"
      },
      "source": [
        "Step 4: Pegasus Summarization\n",
        "\n",
        "Pegasus is pre-trained specifically for **abstractive summarization** by predicting missing sentences in documents.  \n",
        "We will summarize the same documents using Pegasus for comparison.\n"
      ]
    },
    {
      "cell_type": "code",
      "execution_count": 9,
      "metadata": {
        "colab": {
          "base_uri": "https://localhost:8080/",
          "height": 536,
          "referenced_widgets": [
            "611e85631aea46f892d332103b48b848",
            "c91c70cdb0664c7fa6f85ba7fec2e2f1",
            "a224281c7037480e82fb797485e6e635",
            "a8245d1648e841b2ba42813cee560b3b",
            "3ae699fa93ef4d8ba7709ff8f007963e",
            "7e15a15dec5b48ea8e3bc2cff9fc5967",
            "bc04cfca5a534d1b8f8250ace328d593",
            "55584dbee2bf429bba2dd27a77f22b8d",
            "beb8d24ed3e74f59bc4028544e7daafc",
            "94296881c5e24e27b3ceafdb579e5881",
            "3c47688125104845b0722f53837a11e5",
            "04c7d15db6404dd4a713fb5da3c64864",
            "134ba07fee1a4a3b9fac7079a8794658",
            "7cf9497de3734c3091d35801c6f73164",
            "6684e6e27c6d4b05a6c305786c7f2058",
            "33602a8e58c44d89ad05220f0d99d3e0",
            "c9b70d3208e14070b9a0b2455f732176",
            "d547421988fe4df6a3c342b2a812503c",
            "22fc758e89ea4e7cacca7392d32ee467",
            "bb46be5d8f474e45bd713fa8b45eca8c",
            "7cc0d8379a26429d93140b4a8b87b100",
            "c0e4996646dc4782bd735a9c0ed72b3d",
            "b16b1e5f339d4ef2b637caf6b2d5bab4",
            "e19b77db87bc4c31af1aa26736324bb8",
            "2633c5fd8f86498e9beba8c019a81472",
            "f053db7517644138a8693827d196b008",
            "bdff51e52fb842ad9ba86d49e9da1556",
            "4f8e3bcff11b4f51a2bdb7e2246255d0",
            "d474a061c01248bb9297800457a422a3",
            "0ef74e350e1742759fb65c406eaff16d",
            "bb4235108dcd46ccb157c250fa5d115e",
            "4f64a627db934b72b1cdead1b2d28535",
            "7b49e6e7d5e049b9ad855ab8a736aec9",
            "89185ef78b024e1daaef93f3c5942d15",
            "b5f258affd924f4da3e7b5852668725e",
            "66d74849926b43fe8e769b87b29783a1",
            "8f100d326ce04c34aae4214d86196645",
            "25c8323410fe44b8ae267605a131164c",
            "e1ba7982e5cf40058393affa2003d22f",
            "02b028c899b64fcaa2f55d1d9e311b36",
            "097fc2cedfcf41ccb676ddbe971e6ef9",
            "48f7b4411ace4d3d942054d0f5483c7e",
            "5a02d45082ad42e5b031982a12829be0",
            "333f631b0da742b0a96d7a5603ef72a3",
            "4148dcaa63584f648a31de5accd67f32",
            "7ad38649e1af434795d693721a650cf6",
            "997ea57f00d04b95a2b29f40c72daafd",
            "6ac989c0254f4308947b9e8dbdd376b7",
            "58c8def9e31d4db49de2e3b2380a061d",
            "d8b2c5ce49d744519f4367e6828b7056",
            "66026fc5992c4f4eb104c9eed818168e",
            "5a74275bdc8d49359fcb4875a82be0ac",
            "d0d2453d3a7b41938a57b72a67958df9",
            "16704cfeee8c4fc480daf74d4caa98fc",
            "89c7543ba94b4d71a00f9c572dadf9bb",
            "36986fdecadb4b498bc86ac9235c3d00",
            "71627bf2c9aa48b58c28d38091b81b61",
            "2084b08ea15644dba2e1e8d6bc0b6f87",
            "2713cb581eae41f485e04f864ef154b3",
            "b50e96a6231e4506b6516b4711df3b90",
            "46a456facb014307b438cb66d89fe635",
            "4de7aeebe1a344caa5231521736829fa",
            "de897f9a11d84f21b177bf9b447204b0",
            "0636aa77ccde428db82a118ba63b79a2",
            "d33194395b92406aa53e405dd22df0da",
            "af4c30a2b78f41789c76059883177eae",
            "9a4b51a9d2e04ce0844f0167d22e4f3f",
            "20559a86503c4529ba75e38d8691ea7b",
            "5d9d24800bf84ffdba7634bd96f4e377",
            "298fb9b6a1b64609af3133df40565805",
            "c1bf682fb7c94649ad037d5fdee33bfe",
            "3b69260985b449dd924399f6ce586af1",
            "2049266663bf4be980098ee65d8e8c07",
            "a45a23f791af4ccdb2c4b2510e031ce1",
            "34fd672ef6054ee0b977a631f0004223",
            "d8471280706a41219387ee263efaf415",
            "ac01580d6c6c4faf94fc7a49821b260e",
            "7a59250cafc448f8a7b29debb1acd87d",
            "c90ae504e7654beaac657b75b6e74da9",
            "656e5f5d3330428db125173a3c531b8f",
            "45fb1aa95dce4b8082281741ff9e6657",
            "3d97f170deca43e987617f906da0d0a6",
            "770d1770c536465d95b89c0e0349e9a0",
            "3ac46424dd0d491d9fea08656ad28d92",
            "926604c183e74655837dcd098e5a9906",
            "2f3ca1a6f54c442ca6a62f8def753924",
            "d853cb804cc749b7964b138f9d4213ba",
            "b39a84aa620446e49e830fa894e4eaf9"
          ]
        },
        "id": "HTqhmaSq-Z3v",
        "outputId": "c14ace8b-202b-482d-b92d-8eafdd70f85b"
      },
      "outputs": [
        {
          "output_type": "stream",
          "name": "stdout",
          "text": [
            "\n",
            "=== Document 1 \u2013 Pegasus ===\n"
          ]
        },
        {
          "output_type": "display_data",
          "data": {
            "text/plain": [
              "tokenizer_config.json:   0%|          | 0.00/87.0 [00:00<?, ?B/s]"
            ],
            "application/vnd.jupyter.widget-view+json": {
              "version_major": 2,
              "version_minor": 0,
              "model_id": "611e85631aea46f892d332103b48b848"
            }
          },
          "metadata": {}
        },
        {
          "output_type": "display_data",
          "data": {
            "text/plain": [
              "spiece.model:   0%|          | 0.00/1.91M [00:00<?, ?B/s]"
            ],
            "application/vnd.jupyter.widget-view+json": {
              "version_major": 2,
              "version_minor": 0,
              "model_id": "04c7d15db6404dd4a713fb5da3c64864"
            }
          },
          "metadata": {}
        },
        {
          "output_type": "display_data",
          "data": {
            "text/plain": [
              "special_tokens_map.json:   0%|          | 0.00/65.0 [00:00<?, ?B/s]"
            ],
            "application/vnd.jupyter.widget-view+json": {
              "version_major": 2,
              "version_minor": 0,
              "model_id": "b16b1e5f339d4ef2b637caf6b2d5bab4"
            }
          },
          "metadata": {}
        },
        {
          "output_type": "display_data",
          "data": {
            "text/plain": [
              "tokenizer.json: 0.00B [00:00, ?B/s]"
            ],
            "application/vnd.jupyter.widget-view+json": {
              "version_major": 2,
              "version_minor": 0,
              "model_id": "89185ef78b024e1daaef93f3c5942d15"
            }
          },
          "metadata": {}
        },
        {
          "output_type": "display_data",
          "data": {
            "text/plain": [
              "config.json: 0.00B [00:00, ?B/s]"
            ],
            "application/vnd.jupyter.widget-view+json": {
              "version_major": 2,
              "version_minor": 0,
              "model_id": "4148dcaa63584f648a31de5accd67f32"
            }
          },
          "metadata": {}
        },
        {
          "output_type": "display_data",
          "data": {
            "text/plain": [
              "pytorch_model.bin:   0%|          | 0.00/2.28G [00:00<?, ?B/s]"
            ],
            "application/vnd.jupyter.widget-view+json": {
              "version_major": 2,
              "version_minor": 0,
              "model_id": "36986fdecadb4b498bc86ac9235c3d00"
            }
          },
          "metadata": {}
        },
        {
          "output_type": "display_data",
          "data": {
            "text/plain": [
              "model.safetensors:   0%|          | 0.00/2.28G [00:00<?, ?B/s]"
            ],
            "application/vnd.jupyter.widget-view+json": {
              "version_major": 2,
              "version_minor": 0,
              "model_id": "9a4b51a9d2e04ce0844f0167d22e4f3f"
            }
          },
          "metadata": {}
        },
        {
          "output_type": "stream",
          "name": "stderr",
          "text": [
            "Some weights of PegasusForConditionalGeneration were not initialized from the model checkpoint at google/pegasus-xsum and are newly initialized: ['model.decoder.embed_positions.weight', 'model.encoder.embed_positions.weight']\n",
            "You should probably TRAIN this model on a down-stream task to be able to use it for predictions and inference.\n"
          ]
        },
        {
          "output_type": "display_data",
          "data": {
            "text/plain": [
              "generation_config.json:   0%|          | 0.00/259 [00:00<?, ?B/s]"
            ],
            "application/vnd.jupyter.widget-view+json": {
              "version_major": 2,
              "version_minor": 0,
              "model_id": "7a59250cafc448f8a7b29debb1acd87d"
            }
          },
          "metadata": {}
        },
        {
          "output_type": "stream",
          "name": "stdout",
          "text": [
            "\n",
            "Pegasus Summary:\n",
            " Alice was sitting by the bank, and had no idea what to do with herself, for she had never before seen a rabbit in a field, and had never before seen a waistcoat in a field, and had never before seen a watch in a field, and had never before seen a daisy-chain in a field, and had never before seen a rabbit in a field, and had never before seen a watch in a field, and had never before seen a rabbit in a field.\n",
            "\n",
            "=== Document 2 \u2013 Pegasus ===\n"
          ]
        },
        {
          "output_type": "stream",
          "name": "stderr",
          "text": [
            "Some weights of PegasusForConditionalGeneration were not initialized from the model checkpoint at google/pegasus-xsum and are newly initialized: ['model.decoder.embed_positions.weight', 'model.encoder.embed_positions.weight']\n",
            "You should probably TRAIN this model on a down-stream task to be able to use it for predictions and inference.\n"
          ]
        },
        {
          "output_type": "stream",
          "name": "stdout",
          "text": [
            "\n",
            "Pegasus Summary:\n",
            " The following is a statement of the history of The Dailygraph, which has been published in the United States for more than 100 years, and which has been translated into more than 30 languages.., by Bram Stoker, with permission from the Library of Congress, Washington, DC\n"
          ]
        }
      ],
      "source": [
        "from transformers import PegasusTokenizer, PegasusForConditionalGeneration\n",
        "\n",
        "def summarize_pegasus(text, min_len=50, max_len=150):\n",
        "    tokenizer = PegasusTokenizer.from_pretrained(\"google/pegasus-xsum\")\n",
        "    model = PegasusForConditionalGeneration.from_pretrained(\"google/pegasus-xsum\")\n",
        "    inputs = tokenizer(text, return_tensors=\"pt\", truncation=True)\n",
        "    summary_ids = model.generate(\n",
        "        inputs['input_ids'], max_length=max_len, min_length=min_len, num_beams=4, length_penalty=2.0, early_stopping=True\n",
        "    )\n",
        "    return tokenizer.decode(summary_ids[0], skip_special_tokens=True)\n",
        "\n",
        "for idx, doc in enumerate(documents):\n",
        "    print(f\"\\n=== Document {idx+1} \u2013 Pegasus ===\")\n",
        "    pegasus_summary = summarize_pegasus(doc)\n",
        "    print(\"\\nPegasus Summary:\\n\", pegasus_summary)\n"
      ]
    },
    {
      "cell_type": "markdown",
      "metadata": {
        "id": "7o864MPi-ekM"
      },
      "source": [
        "Step 5: Model Comparison\n",
        "\n",
        "We compare the **summary lengths** (number of words) produced by each model.  \n",
        "A heatmap will visualize which model produces longer or shorter summaries for each document.\n"
      ]
    },
    {
      "cell_type": "code",
      "execution_count": 10,
      "metadata": {
        "colab": {
          "base_uri": "https://localhost:8080/",
          "height": 499
        },
        "id": "bWBNVJ6l-iZx",
        "outputId": "5655e240-28a6-4f1d-9e63-50ec5ef55123"
      },
      "outputs": [
        {
          "output_type": "stream",
          "name": "stderr",
          "text": [
            "Some weights of PegasusForConditionalGeneration were not initialized from the model checkpoint at google/pegasus-xsum and are newly initialized: ['model.decoder.embed_positions.weight', 'model.encoder.embed_positions.weight']\n",
            "You should probably TRAIN this model on a down-stream task to be able to use it for predictions and inference.\n",
            "Some weights of PegasusForConditionalGeneration were not initialized from the model checkpoint at google/pegasus-xsum and are newly initialized: ['model.decoder.embed_positions.weight', 'model.encoder.embed_positions.weight']\n",
            "You should probably TRAIN this model on a down-stream task to be able to use it for predictions and inference.\n"
          ]
        },
        {
          "output_type": "display_data",
          "data": {
            "text/plain": [
              "<Figure size 800x400 with 2 Axes>"
            ],
            "image/png": "[encoded data removed]"
          },
          "metadata": {}
        }
      ],
      "source": [
        "import seaborn as sns\n",
        "import matplotlib.pyplot as plt\n",
        "\n",
        "summary_lengths = {\"T5\": [], \"BART\": [], \"Pegasus\": []}\n",
        "\n",
        "for doc in documents:\n",
        "    summary_lengths[\"T5\"].append(len(summarize_t5(doc).split()))\n",
        "    summary_lengths[\"BART\"].append(len(summarize_bart(doc).split()))\n",
        "    summary_lengths[\"Pegasus\"].append(len(summarize_pegasus(doc).split()))\n",
        "\n",
        "heatmap_data = [\n",
        "    summary_lengths[\"T5\"],\n",
        "    summary_lengths[\"BART\"],\n",
        "    summary_lengths[\"Pegasus\"]\n",
        "]\n",
        "\n",
        "model_names = [\"T5\", \"BART\", \"Pegasus\"]\n",
        "document_names = [f\"Doc {i+1}\" for i in range(len(documents))]\n",
        "\n",
        "plt.figure(figsize=(8,4))\n",
        "sns.heatmap(heatmap_data, annot=True, fmt=\"d\", cmap=\"YlGnBu\", xticklabels=document_names, yticklabels=model_names)\n",
        "plt.title(\"Heatmap of Summary Lengths Across Models and Documents\")\n",
        "plt.xlabel(\"Documents\")\n",
        "plt.ylabel(\"Models\")\n",
        "plt.show()\n"
      ]
    },
    {
      "cell_type": "markdown",
      "metadata": {
        "id": "DqhUyurv-kfj"
      },
      "source": [
        "\n",
        "In this example, we will:\n",
        "\n",
        "1. Load a text file from a URL.\n",
        "2. Clean the text.\n",
        "3. Summarize it using T5, BART, and Pegasus.\n",
        "4. Compare summary lengths using a bar chart.\n"
      ]
    },
    {
      "cell_type": "code",
      "execution_count": 11,
      "metadata": {
        "colab": {
          "base_uri": "https://localhost:8080/",
          "height": 602
        },
        "id": "4nkdGMEs-w68",
        "outputId": "4ca2fbae-1944-474f-ac7c-fc80b6c827f7"
      },
      "outputs": [
        {
          "output_type": "stream",
          "name": "stderr",
          "text": [
            "Some weights of PegasusForConditionalGeneration were not initialized from the model checkpoint at google/pegasus-xsum and are newly initialized: ['model.decoder.embed_positions.weight', 'model.encoder.embed_positions.weight']\n",
            "You should probably TRAIN this model on a down-stream task to be able to use it for predictions and inference.\n"
          ]
        },
        {
          "output_type": "stream",
          "name": "stdout",
          "text": [
            "T5 Summary:\n",
            " a white rabbit with pink eyes pops down a rabbit-hole under the hedge . the rabbit-hole goes straight on like a tunnel for some way, and then dipped down . a jar of maps and pictures hung upon pegs, but it was empty as she fell . \n",
            "\n",
            "BART Summary:\n",
            " *** START OF THE PROJECT GUTENBERG EBOOK 11 *** [Illustration] Alice\u2019s Adventures in Wonderland by Lewis Carroll THE MILLENNIUM FULCRUM EDITION 3.0 Contents CHAPTER I. Down the Rabbit-Hole CHAPTER II. The Pool of Tears CHAPTER III. A Caucus-Race and a Long Tale CHAPTER IV. The Rabbit Sends in a Little Bill CHAPTER V. Advice from a Caterpillar CHAPTER VI. Pig and Pepper CHAPTER VII. A Mad Tea-Party CHAPTER VIII. The Queen\u2019S Croquet-Ground CHAPTER IX. The Mock Turtle CHAPTER X. The Lobster Quadrille CHAPTER XI. Who St \n",
            "\n",
            "Pegasus Summary:\n",
            " Alice was sitting by the bank, and had no idea what to do with herself, for she had never before seen a rabbit in a field, and had never before seen a waistcoat in a field, and had never before seen a watch in a field, and had never before seen a daisy-chain in a field, and had never before seen a rabbit in a field, and had never before seen a watch in a field, and had never before seen a rabbit in a field. \n",
            "\n"
          ]
        },
        {
          "output_type": "display_data",
          "data": {
            "text/plain": [
              "<Figure size 600x400 with 1 Axes>"
            ],
            "image/png": "[encoded data removed]"
          },
          "metadata": {}
        }
      ],
      "source": [
        "import requests\n",
        "import re\n",
        "from transformers import T5Tokenizer, T5ForConditionalGeneration\n",
        "from transformers import BartTokenizer, BartForConditionalGeneration\n",
        "from transformers import PegasusTokenizer, PegasusForConditionalGeneration\n",
        "import matplotlib.pyplot as plt\n",
        "\n",
        "# -------------------------------\n",
        "# Step 1: Load and clean text\n",
        "# -------------------------------\n",
        "url = \"https://www.gutenberg.org/files/11/11-0.txt\"  # Alice in Wonderland\n",
        "response = requests.get(url)\n",
        "raw_text = response.text\n",
        "\n",
        "# Clean text: remove extra spaces, newlines, tabs\n",
        "clean_text = re.sub(r'\\s+', ' ', raw_text).strip()\n",
        "# Optional: limit length for faster processing\n",
        "clean_text = clean_text[:3000]\n",
        "\n",
        "# -------------------------------\n",
        "# Step 2: Define summarization functions\n",
        "# -------------------------------\n",
        "def summarize_t5(text):\n",
        "    tokenizer = T5Tokenizer.from_pretrained(\"t5-base\")\n",
        "    model = T5ForConditionalGeneration.from_pretrained(\"t5-base\")\n",
        "    input_text = \"summarize: \" + text\n",
        "    inputs = tokenizer.encode(input_text, return_tensors=\"pt\", max_length=1024, truncation=True)\n",
        "    summary_ids = model.generate(inputs, max_length=150, min_length=50, num_beams=4, length_penalty=2.0, early_stopping=True)\n",
        "    return tokenizer.decode(summary_ids[0], skip_special_tokens=True)\n",
        "\n",
        "def summarize_bart(text):\n",
        "    tokenizer = BartTokenizer.from_pretrained(\"facebook/bart-base\")\n",
        "    model = BartForConditionalGeneration.from_pretrained(\"facebook/bart-base\")\n",
        "    inputs = tokenizer(text, return_tensors=\"pt\", max_length=1024, truncation=True)\n",
        "    summary_ids = model.generate(inputs['input_ids'], max_length=150, min_length=50, num_beams=4, length_penalty=2.0, early_stopping=True)\n",
        "    return tokenizer.decode(summary_ids[0], skip_special_tokens=True)\n",
        "\n",
        "def summarize_pegasus(text):\n",
        "    tokenizer = PegasusTokenizer.from_pretrained(\"google/pegasus-xsum\")\n",
        "    model = PegasusForConditionalGeneration.from_pretrained(\"google/pegasus-xsum\")\n",
        "    inputs = tokenizer(text, return_tensors=\"pt\", truncation=True)\n",
        "    summary_ids = model.generate(inputs['input_ids'], max_length=150, min_length=50, num_beams=4, length_penalty=2.0, early_stopping=True)\n",
        "    return tokenizer.decode(summary_ids[0], skip_special_tokens=True)\n",
        "\n",
        "# -------------------------------\n",
        "# Step 3: Generate summaries\n",
        "# -------------------------------\n",
        "t5_summary = summarize_t5(clean_text)\n",
        "bart_summary = summarize_bart(clean_text)\n",
        "pegasus_summary = summarize_pegasus(clean_text)\n",
        "\n",
        "# Print summaries\n",
        "print(\"T5 Summary:\\n\", t5_summary, \"\\n\")\n",
        "print(\"BART Summary:\\n\", bart_summary, \"\\n\")\n",
        "print(\"Pegasus Summary:\\n\", pegasus_summary, \"\\n\")\n",
        "\n",
        "# -------------------------------\n",
        "# Step 4: Compare summary lengths\n",
        "# -------------------------------\n",
        "summary_lengths = {\n",
        "    \"T5\": len(t5_summary.split()),\n",
        "    \"BART\": len(bart_summary.split()),\n",
        "    \"Pegasus\": len(pegasus_summary.split())\n",
        "}\n",
        "\n",
        "# -------------------------------\n",
        "# Step 5: Plot bar chart\n",
        "# -------------------------------\n",
        "plt.figure(figsize=(6,4))\n",
        "plt.bar(summary_lengths.keys(), summary_lengths.values(), color=['skyblue','lightgreen','salmon'])\n",
        "plt.title(\"Summary Length Comparison\")\n",
        "plt.ylabel(\"Number of Words\")\n",
        "plt.show()\n"
      ]
    },
    {
      "cell_type": "markdown",
      "metadata": {
        "id": "VRe83dtn_E2q"
      },
      "source": [
        "T5 Paraphrasing\n",
        "\n",
        "We will use a pretrained T5 paraphrase model to generate a paraphrased version of the text.  \n",
        "This helps in generating alternative expressions while keeping the meaning intact.\n"
      ]
    },
    {
      "cell_type": "code",
      "execution_count": 12,
      "metadata": {
        "colab": {
          "base_uri": "https://localhost:8080/"
        },
        "id": "Hg0ri1Du_GwA",
        "outputId": "7ca656fb-4fdc-4ee8-bda5-97eadf8318c7"
      },
      "outputs": [
        {
          "output_type": "stream",
          "name": "stdout",
          "text": [
            "Original Text:\n",
            " Alice was beginning to get very tired of sitting by her sister on the bank.\n",
            "\n",
            "Paraphrased Text:\n",
            " Alice was beginning to get very tired of sitting by her sister on the bank .\n"
          ]
        }
      ],
      "source": [
        "from transformers import T5Tokenizer, T5ForConditionalGeneration\n",
        "\n",
        "# Function to paraphrase text using T5\n",
        "def paraphrase_t5(text):\n",
        "    model_name = \"Vamsi/T5_Paraphrase_Paws\"  # Pretrained T5 paraphrase model\n",
        "    tokenizer = T5Tokenizer.from_pretrained(model_name)\n",
        "    model = T5ForConditionalGeneration.from_pretrained(model_name)\n",
        "\n",
        "    # Prepare input for the model\n",
        "    input_text = \"paraphrase: \" + text\n",
        "    inputs = tokenizer.encode(input_text, return_tensors=\"pt\", max_length=1024, truncation=True)\n",
        "\n",
        "    # Generate paraphrase\n",
        "    paraphrase_ids = model.generate(inputs, max_length=256, num_beams=4, early_stopping=True)\n",
        "    paraphrased_text = tokenizer.decode(paraphrase_ids[0], skip_special_tokens=True)\n",
        "    return paraphrased_text\n",
        "\n",
        "# Example usage\n",
        "original_text = \"Alice was beginning to get very tired of sitting by her sister on the bank.\"\n",
        "paraphrased_text = paraphrase_t5(original_text)\n",
        "\n",
        "print(\"Original Text:\\n\", original_text)\n",
        "print(\"\\nParaphrased Text:\\n\", paraphrased_text)\n"
      ]
    },
    {
      "cell_type": "markdown",
      "metadata": {
        "id": "dw8jAtxH_wnu"
      },
      "source": [
        " Pegasus Paraphrasing\n",
        "\n",
        "Although Pegasus is mainly used for summarization, it can be used to generate paraphrased versions of text in an abstractive way.\n"
      ]
    },
    {
      "cell_type": "code",
      "execution_count": 13,
      "metadata": {
        "colab": {
          "base_uri": "https://localhost:8080/"
        },
        "id": "CtM9cdQZ_zO3",
        "outputId": "7a7faae2-c525-4a39-a991-9baff336a282"
      },
      "outputs": [
        {
          "output_type": "stream",
          "name": "stderr",
          "text": [
            "Some weights of PegasusForConditionalGeneration were not initialized from the model checkpoint at google/pegasus-xsum and are newly initialized: ['model.decoder.embed_positions.weight', 'model.encoder.embed_positions.weight']\n",
            "You should probably TRAIN this model on a down-stream task to be able to use it for predictions and inference.\n"
          ]
        },
        {
          "output_type": "stream",
          "name": "stdout",
          "text": [
            "Original Text:\n",
            " Alice was beginning to get very tired of sitting by her sister on the bank.\n",
            "\n",
            "Pegasus Paraphrased Text:\n",
            " This is the story of Alice and her sister, who had been having a bit of a problem with each other at the bank, so Alice decided to take matters into her own hands and asked her sister to sit next to her.\n"
          ]
        }
      ],
      "source": [
        "from transformers import PegasusTokenizer, PegasusForConditionalGeneration\n",
        "\n",
        "# Function to \"paraphrase\" text using Pegasus\n",
        "def paraphrase_pegasus(text, max_len=100, min_len=30):\n",
        "    # Use the pre-trained Pegasus XSUM model\n",
        "    model_name = \"google/pegasus-xsum\"\n",
        "    tokenizer = PegasusTokenizer.from_pretrained(model_name)\n",
        "    model = PegasusForConditionalGeneration.from_pretrained(model_name)\n",
        "\n",
        "    # Encode the text\n",
        "    inputs = tokenizer(text, return_tensors=\"pt\", truncation=True)\n",
        "\n",
        "    # Generate output\n",
        "    paraphrase_ids = model.generate(\n",
        "        inputs['input_ids'],\n",
        "        max_length=max_len,\n",
        "        min_length=min_len,\n",
        "        num_beams=4,\n",
        "        length_penalty=2.0,\n",
        "        early_stopping=True\n",
        "    )\n",
        "\n",
        "    # Decode output\n",
        "    paraphrased_text = tokenizer.decode(paraphrase_ids[0], skip_special_tokens=True)\n",
        "    return paraphrased_text\n",
        "\n",
        "# Example usage\n",
        "original_text = \"Alice was beginning to get very tired of sitting by her sister on the bank.\"\n",
        "pegasus_paraphrase = paraphrase_pegasus(original_text)\n",
        "\n",
        "print(\"Original Text:\\n\", original_text)\n",
        "print(\"\\nPegasus Paraphrased Text:\\n\", pegasus_paraphrase)\n"
      ]
    }
  ],
  "metadata": {
    "accelerator": "GPU",
    "colab": {
      "gpuType": "T4",
      "provenance": [],
      "toc_visible": true
    },
    "kernelspec": {
      "display_name": "Python 3 (ipykernel)",
      "language": "python",
      "name": "python3"
    },
    "language_info": {
      "codemirror_mode": {
        "name": "ipython",
        "version": 3
      },
      "file_extension": ".py",
      "mimetype": "text/x-python",
      "name": "python",
      "nbconvert_exporter": "python",
      "pygments_lexer": "ipython3",
      "version": "3.13.5"
    }
  },
  "nbformat": 4,
  "nbformat_minor": 0
}
